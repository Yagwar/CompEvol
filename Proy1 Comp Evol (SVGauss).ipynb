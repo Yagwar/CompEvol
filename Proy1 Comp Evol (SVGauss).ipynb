{
 "cells": [
  {
   "cell_type": "markdown",
   "metadata": {},
   "source": [
    "# Algortimos genéticos\n",
    "\n",
    "Optimización de parámetros de Support Vector Machine con Kernel Gaussiano para una tarea de clasificación."
   ]
  },
  {
   "cell_type": "code",
   "execution_count": 1,
   "metadata": {
    "collapsed": true
   },
   "outputs": [],
   "source": [
    "import pandas as pd\n",
    "import numpy as np\n",
    "import glob\n",
    "import xml.etree.ElementTree as ET\n",
    "from gensim.models import Doc2Vec\n",
    "from nltk.tokenize import word_tokenize\n",
    "from nltk.util import ngrams\n",
    "import nltk\n",
    "from sklearn.cross_validation import train_test_split\n",
    "\n",
    "from sklearn.ensemble import RandomForestClassifier\n",
    "from sklearn import svm\n",
    "from sklearn.linear_model import SGDClassifier\n",
    "\n",
    "from sklearn.cross_validation import StratifiedKFold\n",
    "from sklearn.metrics import f1_score as f1\n",
    "from sklearn import cross_validation\n",
    "\n",
    "from bitarray import bitarray\n",
    "import math\n",
    "import random\n",
    "\n",
    "import matplotlib.pyplot as plt\n",
    "%matplotlib inline\n"
   ]
  },
  {
   "cell_type": "code",
   "execution_count": 2,
   "metadata": {
    "collapsed": false
   },
   "outputs": [
    {
     "name": "stdout",
     "output_type": "stream",
     "text": [
      "135\n"
     ]
    }
   ],
   "source": [
    "path_prep_files = 'Training/' # 2-way scientist dataset (trainning)\n",
    "all_files =  glob.glob(path_prep_files+'*.xml')\n",
    "print (len(all_files))\n"
   ]
  },
  {
   "cell_type": "code",
   "execution_count": 3,
   "metadata": {
    "collapsed": true
   },
   "outputs": [],
   "source": [
    "_fname = \"/home/aecarrillor/ASAG/GoogleNews-vectors-negative300.bin\"\n",
    "w2vModel = Doc2Vec.load_word2vec_format(_fname, binary=True)"
   ]
  },
  {
   "cell_type": "code",
   "execution_count": 4,
   "metadata": {
    "collapsed": true
   },
   "outputs": [],
   "source": [
    "# crear array con id de pregunta, textos combinados y calificación.\n",
    "\n",
    "id_question=[]# Identificador de la pregunta (etiqueta de clase).\n",
    "calif=[]# Marca de criterio.\n",
    "quest=[]#Pregunta.\n",
    "ref_answer=[]#Respuesta de referencia.\n",
    "stud_answ=[]#Respuesta de estudiante.\n",
    "\n",
    "\n",
    "for doc in all_files:\n",
    "    tree = ET.parse(doc)\n",
    "    root = tree.getroot()\n",
    "    question=root[0].text\n",
    "    grade_st=[branch.attrib[\"accuracy\"] for branch in root[2]]\n",
    "    answers_st=[branch.text for branch in root[2]]\n",
    "    answers_ref=[branch.text for branch in root[1]]# If there are more of 1 reference answer...\n",
    "    for ith_ans,st_answ in enumerate(answers_st):\n",
    "        quest.append(question)\n",
    "        ref_answer.append(answers_ref[0])\n",
    "        stud_answ.append(st_answ)\n",
    "        id_question.append(root.attrib[\"id\"])\n",
    "        st_ans_calif=str(grade_st[ith_ans])\n",
    "        calif.extend([1 if st_ans_calif==\"correct\" else 0])"
   ]
  },
  {
   "cell_type": "code",
   "execution_count": 5,
   "metadata": {
    "collapsed": true
   },
   "outputs": [],
   "source": [
    "def w2vec_txts(txts):\n",
    "    return np.array([(sum([w2vModel[word.lower()] for word in nltk.word_tokenize(StAns) if word.lower() in w2vModel ])/\n",
    "                       len([w2vModel[word.lower()] for word in nltk.word_tokenize(StAns) if word.lower() in w2vModel])) \n",
    "                       for StAns in txts])"
   ]
  },
  {
   "cell_type": "code",
   "execution_count": 6,
   "metadata": {
    "collapsed": false
   },
   "outputs": [],
   "source": [
    "w2v_questions=w2vec_txts(quest)\n",
    "w2v_RefAns=w2vec_txts(ref_answer)\n",
    "w2v_StudAns=w2vec_txts(stud_answ)"
   ]
  },
  {
   "cell_type": "code",
   "execution_count": 7,
   "metadata": {
    "collapsed": true
   },
   "outputs": [],
   "source": [
    "Preg_RefAns_StAns=[]\n",
    "for i in xrange(len(w2v_questions)):\n",
    "    vec_900=[]\n",
    "    vec_900.extend(w2v_questions[i])\n",
    "    vec_900.extend(w2v_RefAns[i])\n",
    "    vec_900.extend(w2v_StudAns[i])\n",
    "    Preg_RefAns_StAns.append(vec_900)"
   ]
  },
  {
   "cell_type": "code",
   "execution_count": 8,
   "metadata": {
    "collapsed": false
   },
   "outputs": [],
   "source": [
    "# #split data\n",
    "X_train_w2v, X_test_w2v, y_train_w2v, y_test_w2v= train_test_split(Preg_RefAns_StAns,calif, test_size=0.25, random_state=42)"
   ]
  },
  {
   "cell_type": "code",
   "execution_count": 9,
   "metadata": {
    "collapsed": false
   },
   "outputs": [],
   "source": [
    "# Clasificador lineal optimizado con stochastic gradient descent.\n",
    "svc = SGDClassifier(loss=\"hinge\", penalty=\"l2\", n_iter=1500)\n",
    "svc.fit(X_train_w2v, y_train_w2v)\n",
    "yhat = svc.predict(X_test_w2v)\n",
    "f1_eval_w2v=f1(y_test_w2v, yhat)"
   ]
  },
  {
   "cell_type": "code",
   "execution_count": 10,
   "metadata": {
    "collapsed": false
   },
   "outputs": [
    {
     "data": {
      "text/plain": [
       "0.58265895953757219"
      ]
     },
     "execution_count": 10,
     "metadata": {},
     "output_type": "execute_result"
    }
   ],
   "source": [
    "f1_eval_w2v"
   ]
  },
  {
   "cell_type": "code",
   "execution_count": 11,
   "metadata": {
    "collapsed": false
   },
   "outputs": [
    {
     "name": "stdout",
     "output_type": "stream",
     "text": [
      "('par\\xc3\\xa1metros default', 0.0)\n"
     ]
    },
    {
     "name": "stderr",
     "output_type": "stream",
     "text": [
      "/opt/anaconda/envs/mindlabenv/lib/python2.7/site-packages/sklearn/metrics/metrics.py:1771: UndefinedMetricWarning: F-score is ill-defined and being set to 0.0 due to no predicted samples.\n",
      "  'precision', 'predicted', average, warn_for)\n"
     ]
    }
   ],
   "source": [
    "# Clasificador Kernel Gaussiano.\n",
    "svr = svm.SVC(kernel='rbf')\n",
    "svr.fit(X_train_w2v, y_train_w2v)\n",
    "y_est = svr.predict(X_test_w2v)\n",
    "f1_svr=f1(y_test_w2v, y_est)\n",
    "print (\"parámetros default\", f1_svr)"
   ]
  },
  {
   "cell_type": "code",
   "execution_count": 12,
   "metadata": {
    "collapsed": false
   },
   "outputs": [
    {
     "name": "stdout",
     "output_type": "stream",
     "text": [
      "('len=', 2048, 'min', 5.7543993733715666e-11, 'max', 16982436524.61746, 'med', 1.0)\n",
      "('len', 2048, 'min', 1.3010031607552597e-05, 'max', 76023.95090247074, 'med', 1.0)\n"
     ]
    }
   ],
   "source": [
    "cods=range(-1024,1024)\n",
    "C_param_vals=[10**(val/100.0) for val in cods]\n",
    "print(\"len=\",len(C_param_vals),\"min\",min(C_param_vals),\"max\",max(C_param_vals),\"med\",C_param_vals[1024])\n",
    "len(C_param_vals)\n",
    "sigma_param_vals=[3**(val/100.0) for val in cods]\n",
    "print(\"len\",len(sigma_param_vals),\"min\",min(sigma_param_vals),\"max\",max(sigma_param_vals),\"med\",sigma_param_vals[1024])\n"
   ]
  },
  {
   "cell_type": "code",
   "execution_count": 13,
   "metadata": {
    "collapsed": false
   },
   "outputs": [
    {
     "data": {
      "image/png": "[encoded data removed]",
      "text/plain": [
       "<matplotlib.figure.Figure at 0x7fa374c8ef90>"
      ]
     },
     "metadata": {},
     "output_type": "display_data"
    }
   ],
   "source": [
    "#plt.figure(figsize=(15,8))\n",
    "base_seq=range(-1024, 1024)\n",
    "#plt.plot(cods,C_param_vals)\n",
    "plt.plot(cods,sigma_param_vals)\n",
    "plt.show()"
   ]
  },
  {
   "cell_type": "markdown",
   "metadata": {},
   "source": [
    "# Funciones"
   ]
  },
  {
   "cell_type": "code",
   "execution_count": null,
   "metadata": {
    "collapsed": false
   },
   "outputs": [],
   "source": [
    "def pop_indiv(bit_len=22):\n",
    "    return ''.join([str(random.randint(0,1))for i in range(bit_len)])\n",
    "    #return ''.join(['1' if bit==True else '0' for bit in bitarray(bit_len)])\n",
    "\n",
    "def decode_indiv(indiv):\n",
    "    c_param=10**((int(indiv[:11],2)-1024)/100.0)\n",
    "    sigma_param= 3**((int(indiv[11:],2)-1024)/100.0)\n",
    "    return [c_param, sigma_param]\n",
    "\n",
    "def fit_SVGauss(individuo):\n",
    "    c_param_bit=10**((int(indivuo[:11],2)-1024)/100.0)\n",
    "    sigma_param_bit= 3**((int(indivuo[11:],2)-1024)/100.0)    \n",
    "    svg = svm.SVC(kernel='rbf', C=c_param_bit, gamma=sigma_param_bit)\n",
    "    svg.fit(X_train_w2v, y_train_w2v)\n",
    "    y_est = svg.predict(X_test_w2v)\n",
    "    f1_svr=f1(y_test_w2v, y_est, average='weighted')\n",
    "    return f1_svr\n",
    "\n",
    "def svg_2(indiv):\n",
    "    #decode_indiv(indiv)\n",
    "    svr = svm.SVC(kernel='rbf', C=decode_indiv(indiv)[0], gamma=decode_indiv(indiv)[1])\n",
    "    svr.fit(X_train_w2v, y_train_w2v)\n",
    "    y_est = svr.predict(X_test_w2v)\n",
    "    f1_svr=f1(y_test_w2v, y_est, average='weighted')\n",
    "    return f1_svr\n",
    "\n",
    "def rastrigin(X_array, A=10, m=0):\n",
    "    n=len(X_array)\n",
    "    y=A*n+(sum([(x_val**2)-(A*math.cos(2*math.pi*x_val))for x_val in X_array]))\n",
    "    return y"
   ]
  },
  {
   "cell_type": "code",
   "execution_count": null,
   "metadata": {
    "collapsed": false
   },
   "outputs": [],
   "source": [
    "popul_size=1000\n",
    "population_1=[pop_indiv() for i in range(popul_size)]\n",
    "rastr=[rastrigin(decode_indiv(ind)) for ind in population_1]\n",
    "svg_fit=[svg_2(ind) for ind in population_1]\n",
    "decods=[decode_indiv(ind) for ind in population_1]"
   ]
  },
  {
   "cell_type": "code",
   "execution_count": null,
   "metadata": {
    "collapsed": false,
    "scrolled": true
   },
   "outputs": [],
   "source": [
    "print(\"Population\",np.array(population_1))\n",
    "print (\"decods\",np.array(decods))\n",
    "print (\"Rastrig\",np.array(rastr))\n",
    "print (\"svg_fit\",np.array(svg_fit))\n",
    "\n",
    "plt.figure(figsize=(15,8))\n",
    "plt.plot(svg_fit)"
   ]
  },
  {
   "cell_type": "code",
   "execution_count": null,
   "metadata": {
    "collapsed": false
   },
   "outputs": [],
   "source": [
    "import csv\n",
    "#print (\"decods\",np.array(decods))\n",
    "writer = csv.writer(open(\"params_2.csv\", 'w'))\n",
    "for i in range(len(svg_fit)):\n",
    "    #if counter[row[0]] >= 4:\n",
    "    writer.writerow([decods[i],svg_fit[i]])\n"
   ]
  },
  {
   "cell_type": "code",
   "execution_count": null,
   "metadata": {
    "collapsed": false
   },
   "outputs": [],
   "source": [
    "plt.figure(figsize=(15,8))\n",
    "plt.hist(svg_fit)"
   ]
  },
  {
   "cell_type": "markdown",
   "metadata": {},
   "source": [
    "# Test_Code\n"
   ]
  },
  {
   "cell_type": "code",
   "execution_count": null,
   "metadata": {
    "collapsed": false
   },
   "outputs": [],
   "source": [
    "print (len(decods))\n",
    "print (len (svg_fit))\n",
    "print (max(svg_fit))"
   ]
  },
  {
   "cell_type": "code",
   "execution_count": 128,
   "metadata": {
    "collapsed": false
   },
   "outputs": [
    {
     "name": "stdout",
     "output_type": "stream",
     "text": [
      "(5.623413251903491, 6.6899022280750415, 0.74872838250254325)\n"
     ]
    }
   ],
   "source": []
  },
  {
   "cell_type": "code",
   "execution_count": 30,
   "metadata": {
    "collapsed": false
   },
   "outputs": [],
   "source": [
    "#c_param=10**((int(indiv[:11],2)-1024)/100.0)\n",
    "#sigma_param= 3**((int(indiv[11:],2)-1024)/100.0)\n",
    "def fit_SVGauss(individuo):\n",
    "    c_param_bit=10**((int(indivuo[:11],2)-1024)/100.0)\n",
    "    sigma_param_bit= 3**((int(indivuo[11:],2)-1024)/100.0)    \n",
    "    svr = svm.SVC(kernel='rbf', C=c_param_bit, gamma=sigma_param_bit)\n",
    "    svr.fit(X_train_w2v, y_train_w2v)\n",
    "    y_est = svr.predict(X_test_w2v)\n",
    "    f1_svr=f1(y_test_w2v, y_est, average='weighted')\n",
    "    return f1_svr"
   ]
  },
  {
   "cell_type": "code",
   "execution_count": 131,
   "metadata": {
    "collapsed": false
   },
   "outputs": [],
   "source": [
    "c_best=5.623413251903491\n",
    "gamma_best=6.6899022280750415\n",
    "svg_fit_best=0.74872838250254325"
   ]
  },
  {
   "cell_type": "code",
   "execution_count": null,
   "metadata": {
    "collapsed": false
   },
   "outputs": [],
   "source": [
    "2048**2"
   ]
  },
  {
   "cell_type": "code",
   "execution_count": 104,
   "metadata": {
    "collapsed": false
   },
   "outputs": [],
   "source": [
    "def svg_2(indiv):\n",
    "    #decode_indiv(indiv)\n",
    "    svr = svm.SVC(kernel='rbf', C=decode_indiv(indiv)[0], gamma=decode_indiv(indiv)[1])\n",
    "    svr.fit(X_train_w2v, y_train_w2v)\n",
    "    y_est = svr.predict(X_test_w2v)\n",
    "    f1_svr=f1(y_test_w2v, y_est, average='weighted')\n",
    "    return f1_svr\n"
   ]
  },
  {
   "cell_type": "code",
   "execution_count": 105,
   "metadata": {
    "collapsed": false
   },
   "outputs": [
    {
     "data": {
      "text/plain": [
       "0.60735468564650053"
      ]
     },
     "execution_count": 105,
     "metadata": {},
     "output_type": "execute_result"
    }
   ],
   "source": [
    "svg_2(indiv)"
   ]
  }
 ],
 "metadata": {
  "kernelspec": {
   "display_name": "Python 2",
   "language": "python",
   "name": "python2"
  },
  "language_info": {
   "codemirror_mode": {
    "name": "ipython",
    "version": 2
   },
   "file_extension": ".py",
   "mimetype": "text/x-python",
   "name": "python",
   "nbconvert_exporter": "python",
   "pygments_lexer": "ipython2",
   "version": "2.7.13"
  }
 },
 "nbformat": 4,
 "nbformat_minor": 0
}
