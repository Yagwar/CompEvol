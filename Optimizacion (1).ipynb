{
 "cells": [
  {
   "cell_type": "markdown",
   "metadata": {
    "collapsed": true
   },
   "source": [
    "# Recomendaciones experimentales. \n",
    "\n",
    "Todo experimento debe ser corrido 100 veces con 3 millones de iteraciones."
   ]
  },
  {
   "cell_type": "code",
   "execution_count": 1,
   "metadata": {
    "collapsed": false
   },
   "outputs": [],
   "source": [
    "import numpy as np\n",
    "import pandas as pd\n",
    "import random\n",
    "import math\n",
    "import matplotlib.pyplot as plt\n",
    "import matplotlib.mlab as mlab\n",
    "% matplotlib inline\n",
    "\n",
    "import random\n",
    "from bitarray import bitarray\n"
   ]
  },
  {
   "cell_type": "markdown",
   "metadata": {},
   "source": [
    "# Taller 1\n"
   ]
  },
  {
   "cell_type": "markdown",
   "metadata": {},
   "source": [
    "## Rastrigin"
   ]
  },
  {
   "cell_type": "markdown",
   "metadata": {
    "collapsed": false
   },
   "source": [
    "https://www.sfu.ca/~ssurjano/rastr.html\n",
    "https://en.wikipedia.org/wiki/Rastrigin_function\n",
    "\n",
    "\n",
    "\n",
    "\n"
   ]
  },
  {
   "cell_type": "markdown",
   "metadata": {
    "collapsed": true
   },
   "source": [
    "function y = Rastrigin (X)\n",
    "\t\n",
    "    % Rastrigin's Function\n",
    "\tA = 10;\n",
    "\tn = 2;\n",
    "\tm = 0;\n",
    "    \n",
    "\tfor i = 1:n\n",
    "\t\tm = m + X(i)^2 - A*cos(2*pi*X(i));\n",
    "\tend\n",
    "\t\n",
    "\ty = 10*n + m;\t\n",
    "\t\n",
    "end\n"
   ]
  },
  {
   "cell_type": "code",
   "execution_count": 2,
   "metadata": {
    "collapsed": false
   },
   "outputs": [],
   "source": [
    "def rastrigin(X_array, A=10, m=0):\n",
    "    n=len(X_array)\n",
    "    y=A*n+(sum([(x_val**2)-(A*math.cos(2*math.pi*x_val))for x_val in X_array]))\n",
    "    return y"
   ]
  },
  {
   "cell_type": "code",
   "execution_count": 3,
   "metadata": {
    "collapsed": true
   },
   "outputs": [],
   "source": [
    "# Generar un vector de n=10 dimensiones entre los valores factibles.\n",
    "def rand_vec (n_dims=10, min_factible=-5.12, max_factible=5.12):\n",
    "    X_array=[random.uniform(min_factible,max_factible) for i in range(n_dims)]\n",
    "    return np.array(X_array)"
   ]
  },
  {
   "cell_type": "code",
   "execution_count": 4,
   "metadata": {
    "collapsed": false
   },
   "outputs": [
    {
     "data": {
      "text/plain": [
       "195.19315128953815"
      ]
     },
     "execution_count": 4,
     "metadata": {},
     "output_type": "execute_result"
    }
   ],
   "source": [
    "rastrigin(rand_vec())"
   ]
  },
  {
   "cell_type": "code",
   "execution_count": 5,
   "metadata": {
    "collapsed": false
   },
   "outputs": [
    {
     "data": {
      "text/plain": [
       "52.5"
      ]
     },
     "execution_count": 5,
     "metadata": {},
     "output_type": "execute_result"
    }
   ],
   "source": [
    "rastrigin([2.5,2.5])"
   ]
  },
  {
   "cell_type": "code",
   "execution_count": 6,
   "metadata": {
    "collapsed": false
   },
   "outputs": [
    {
     "data": {
      "text/plain": [
       "[<matplotlib.lines.Line2D at 0x7f1e2c4f4790>]"
      ]
     },
     "execution_count": 6,
     "metadata": {},
     "output_type": "execute_result"
    },
    {
     "data": {
      "image/png": "[encoded data removed]",
      "text/plain": [
       "<matplotlib.figure.Figure at 0x7f1e2fad3d90>"
      ]
     },
     "metadata": {},
     "output_type": "display_data"
    }
   ],
   "source": [
    "range_val=(np.array((range(1025)))/100.0)-5.12\n",
    "rast_fit=[rastrigin ([x_dot]) for x_dot in range_val]\n",
    "plt.plot(range_val,rast_fit)"
   ]
  },
  {
   "cell_type": "markdown",
   "metadata": {},
   "source": [
    "## Ascenso colina"
   ]
  },
  {
   "cell_type": "code",
   "execution_count": 9,
   "metadata": {
    "collapsed": false
   },
   "outputs": [],
   "source": [
    "# Generar delta (de cambio) para cada punto en la dimensión\n",
    "def delta_unif_rand(n_dims=10):\n",
    "    return np.array([random.random()*2-1 for dim in range(n_dims)])\n",
    "\n",
    "def delta_gauss_rand(n_dims=10, sigma=1):\n",
    "    return np.array([random.gauss(0, sigma) for dim in range(n_dims)])\n",
    "\n",
    "#def delta_power_rand()"
   ]
  },
  {
   "cell_type": "code",
   "execution_count": 10,
   "metadata": {
    "collapsed": false
   },
   "outputs": [
    {
     "name": "stdout",
     "output_type": "stream",
     "text": [
      "[-5.10639983  3.34964447  1.37545284 -2.50744764 -4.73933076  1.56208819\n",
      " -3.42839739 -2.19377922 -5.10884521  2.54354375]\n",
      "[-0.63447326  0.75662934 -0.4783281  -0.25419623 -0.42376476 -0.13951644\n",
      " -0.98547308  0.34301511  0.23106898 -0.2564005 ]\n"
     ]
    },
    {
     "data": {
      "text/plain": [
       "array([-5.74087309,  4.10627381,  0.89712475, -2.76164387, -5.16309552,\n",
       "        1.42257175, -4.41387046, -1.8507641 , -4.87777623,  2.28714325])"
      ]
     },
     "execution_count": 10,
     "metadata": {},
     "output_type": "execute_result"
    }
   ],
   "source": [
    "X_vals=rand_vec()\n",
    "print (X_vals)\n",
    "deltas=delta_unif_rand()\n",
    "print (deltas)\n",
    "\n",
    "np.array(X_vals)+np.array(deltas)"
   ]
  },
  {
   "cell_type": "code",
   "execution_count": 11,
   "metadata": {
    "collapsed": true
   },
   "outputs": [],
   "source": [
    "def ascenso_colina (n_iters=1000, n_dims=10, min_factible=-5.12, max_factible=5.12, distrib=\"unif\", sigma=1):\n",
    "    X_arr=rand_vec(n_dims)\n",
    "    #print(X_arr)\n",
    "    for i_iter in range(n_iters):\n",
    "        if distrib==\"unif\":\n",
    "            deltas=delta_unif_rand(n_dims)\n",
    "        if distrib==\"gauss\":\n",
    "            deltas=delta_gauss_rand(n_dims, sigma)\n",
    "        X_arr_2=X_arr+deltas\n",
    "        for i_dim in range(n_dims):\n",
    "            if X_arr_2[i_dim]>=max_factible:\n",
    "                X_arr_2[i_dim]=max_factible\n",
    "            if X_arr_2[i_dim]<=min_factible:\n",
    "                X_arr_2[i_dim]=min_factible\n",
    "        ras_X_arr=rastrigin(X_arr)\n",
    "        ras_X_arr_2=rastrigin(X_arr_2)\n",
    "        if ras_X_arr_2<=ras_X_arr:\n",
    "            X_arr=X_arr_2\n",
    "            #print \"Iter: \",i_iter,\"| Rastrigin: \",ras_X_arr_2\n",
    "    return [rastrigin(X_arr),X_arr]"
   ]
  },
  {
   "cell_type": "code",
   "execution_count": null,
   "metadata": {
    "collapsed": false,
    "scrolled": true
   },
   "outputs": [],
   "source": [
    "test_unif=[ascenso_colina(n_iters=100000,n_dims=10, distrib=\"unif\") for k in xrange(1000)]\n",
    "y_uniform=[rast[0] for rast in test_unif]"
   ]
  },
  {
   "cell_type": "code",
   "execution_count": 75,
   "metadata": {
    "collapsed": false,
    "scrolled": true
   },
   "outputs": [
    {
     "data": {
      "image/png": "[encoded data removed]",
      "text/plain": [
       "<matplotlib.figure.Figure at 0x7f1c981da950>"
      ]
     },
     "metadata": {},
     "output_type": "display_data"
    }
   ],
   "source": [
    "n, bins, patches = plt.hist(y_uniform, 50, normed=1, facecolor='blue', alpha=0.75)\n",
    "\n",
    "plt.xlabel('Smarts')\n",
    "plt.ylabel('Probability')\n",
    "plt.grid(True)\n",
    "plt.show()"
   ]
  },
  {
   "cell_type": "code",
   "execution_count": 76,
   "metadata": {
    "collapsed": false,
    "scrolled": true
   },
   "outputs": [
    {
     "data": {
      "image/png": "[encoded data removed]",
      "text/plain": [
       "<matplotlib.figure.Figure at 0x7f1c939ec110>"
      ]
     },
     "metadata": {},
     "output_type": "display_data"
    }
   ],
   "source": [
    "test_gauss_sigma1=[ascenso_colina(n_iters=100000,n_dims=10, distrib=\"gauss\", sigma=1) for k in xrange(1000)]\n",
    "y_gauss_sigma1=[rast[0] for rast in test_gauss_sigma1]\n",
    "\n",
    "n, bins, patches = plt.hist(y_gauss_sigma1, 50, normed=1, facecolor='blue', alpha=0.75)\n",
    "plt.xlabel('Smarts')\n",
    "plt.ylabel('Probability')\n",
    "plt.grid(True)\n",
    "plt.show()"
   ]
  },
  {
   "cell_type": "code",
   "execution_count": 77,
   "metadata": {
    "collapsed": false
   },
   "outputs": [
    {
     "data": {
      "image/png": "[encoded data removed]",
      "text/plain": [
       "<matplotlib.figure.Figure at 0x7f1c98139c10>"
      ]
     },
     "metadata": {},
     "output_type": "display_data"
    }
   ],
   "source": [
    "test_gauss_sigma05=[ascenso_colina(n_iters=100000,n_dims=10, distrib=\"gauss\", sigma=0.5) for k in xrange(1000)]\n",
    "y_gauss_sigma05=[rast[0] for rast in test_gauss_sigma05]\n",
    "\n",
    "n, bins, patches = plt.hist(y_gauss_sigma05, 50, normed=1, facecolor='blue', alpha=0.75)\n",
    "plt.xlabel('Smarts')\n",
    "plt.ylabel('Probability')\n",
    "plt.grid(True)\n",
    "\n",
    "plt.show()"
   ]
  },
  {
   "cell_type": "markdown",
   "metadata": {},
   "source": [
    "# Taller 2 Ruleta\n",
    "1. Generar 3 probabilidades (cada una dicotómica) (¿Distribución binomial?)\n",
    " \n",
    "     $n=3$\n",
    " \n",
    "     $p_{1}= 0.5$\n",
    "     \n",
    "     $p_{2}= 0.3$\n",
    "     \n",
    "     $p_{3}= 0.2$\n",
    "\n",
    "\n",
    "2. Iterar k veces (1 corrida).\n",
    "- sacar la probabilidad de p en cada corrida $$\n",
    "\n",
    "3. correr r veces las iteraciones."
   ]
  },
  {
   "cell_type": "markdown",
   "metadata": {
    "collapsed": true
   },
   "source": [
    "http://eli.thegreenplace.net/2010/01/22/weighted-random-generation-in-python/\n",
    "\n",
    "http://stackoverflow.com/questions/177271/roulette-selection-in-genetic-algorithms/5315710#5315710\n",
    "\n",
    "http://geneticalgorithms.ai-depot.com/Tutorial/Overview.html\n"
   ]
  },
  {
   "cell_type": "code",
   "execution_count": 189,
   "metadata": {
    "collapsed": true
   },
   "outputs": [],
   "source": [
    "def selec_rulet_a(pesos_candid, n):\n",
    "    elecs=[]\n",
    "    probs=[float(p_i)/sum(pesos_candid) for p_i in pesos_candid]\n",
    "    for i_num in xrange(n):\n",
    "        r_num=random.random()\n",
    "        cumsum=[sum(probs[:i+1]) for i in xrange(len(probs))]\n",
    "        elec=None\n",
    "        for i_sum in enumerate(cumsum):\n",
    "            if r_num <= i_sum[1]:\n",
    "                elec=i_sum[0]+1\n",
    "                break\n",
    "        elecs.append(elec)\n",
    "    return elecs"
   ]
  },
  {
   "cell_type": "code",
   "execution_count": 373,
   "metadata": {
    "collapsed": false
   },
   "outputs": [],
   "source": [
    "def gener_props(vec_pesos,n_iter,reps):\n",
    "    props_res=[]\n",
    "    for i in xrange(reps):\n",
    "        generados=selec_rulet(vec_pesos,n_iter)\n",
    "        result=list(np.array([generados.count(i) for i in set(generados)])/float(len(generados)))\n",
    "        props_res.append(result)\n",
    "    return np.mean(np.array(props_res),axis=0)"
   ]
  },
  {
   "cell_type": "code",
   "execution_count": 379,
   "metadata": {
    "collapsed": false
   },
   "outputs": [
    {
     "name": "stdout",
     "output_type": "stream",
     "text": [
      "[ 0.5  0.3  0.2]\n",
      "[ 0.5002381  0.2998813  0.1998806]\n"
     ]
    }
   ],
   "source": [
    "pesos=[5,3,2]\n",
    "print(np.array(pesos)/float(sum(pesos)))\n",
    "#print(np.mean(gener_props(pesos,10000,10000),axis=0))\n",
    "print gener_props(pesos,10000,1000)"
   ]
  },
  {
   "cell_type": "code",
   "execution_count": 380,
   "metadata": {
    "collapsed": false
   },
   "outputs": [
    {
     "data": {
      "text/plain": [
       "array([ 0.12871287,  0.16831683,  0.18811881,  0.22772277,  0.28712871])"
      ]
     },
     "execution_count": 380,
     "metadata": {},
     "output_type": "execute_result"
    }
   ],
   "source": [
    "np.array([13, 17, 19, 23, 29])/float(sum([13, 17, 19, 23, 29]))"
   ]
  },
  {
   "cell_type": "markdown",
   "metadata": {},
   "source": [
    "## ley de potencia\n"
   ]
  },
  {
   "cell_type": "code",
   "execution_count": null,
   "metadata": {
    "collapsed": true
   },
   "outputs": [],
   "source": []
  },
  {
   "cell_type": "markdown",
   "metadata": {},
   "source": [
    "## Clase mar 8 2017\n",
    "\n",
    "Selección de uno perteneciente a la población según su proporción de ajuste.\n",
    "identificar el mínimo de distancia y tomarlo como un \"cuanto\", trabajarlo sobre la escala (rango de mínimo y máximo)"
   ]
  },
  {
   "cell_type": "code",
   "execution_count": 6,
   "metadata": {
    "collapsed": false
   },
   "outputs": [
    {
     "data": {
      "text/plain": [
       "[-5, -4, -4, 0, 1, 2, 3, 4]"
      ]
     },
     "execution_count": 6,
     "metadata": {},
     "output_type": "execute_result"
    }
   ],
   "source": [
    "vals=[random.randrange(-5, 5) for i in range (8)]\n",
    "sorted(vals, key=int)   "
   ]
  },
  {
   "cell_type": "markdown",
   "metadata": {},
   "source": [
    "### Selección por ranking"
   ]
  },
  {
   "cell_type": "markdown",
   "metadata": {},
   "source": [
    "el F se asigna a los \"cuantos\".\n",
    "### Trabajo independiente:\n",
    "- Implementar los métodos de selección por ruleta, ranking y torneo"
   ]
  },
  {
   "cell_type": "markdown",
   "metadata": {
    "collapsed": true
   },
   "source": [
    "## Tarea\n",
    "\n",
    "- "
   ]
  },
  {
   "cell_type": "markdown",
   "metadata": {},
   "source": [
    "# clase 15 marzo 2017\n",
    "\n",
    "- Universal stochastic sampling\n",
    "\n",
    "## teorema del esquema de holland\n",
    "- https://www.cse.unr.edu/~sushil/class/gas/notes/GASchemaTheorem2.pdf\n",
    "- https://engineering.purdue.edu/~sudhoff/ee630/Lecture03.pdf\n",
    "- https://es.slideshare.net/AndresMendezVazquez/072-hollands-genetic-algorithmsschematheorem\n"
   ]
  },
  {
   "cell_type": "markdown",
   "metadata": {
    "collapsed": true
   },
   "source": [
    "# clase 17 de marzo\n",
    "\n",
    "100 individuos \n",
    "código binario\n",
    "hacer un algoritmo genètico\n",
    "con solo selecciòn\n",
    "cómo evolucionaría la poblaciòn hacièndo solo selecciòn.\n",
    "100 iteraciones\n",
    "imprimir cada 10\n",
    "\n",
    "\n",
    "https://pypi.python.org/pypi/bitarray/\n",
    "\n",
    "\n",
    "- binarios\n",
    "- fitnes: cuántos 1 tiene\n"
   ]
  },
  {
   "cell_type": "code",
   "execution_count": 16,
   "metadata": {
    "collapsed": false
   },
   "outputs": [],
   "source": [
    "# generar población\n",
    "def pop_gener(N_pob, len_ind_bits):\n",
    "    #Generador de poblaciones al azar\n",
    "    return [bitarray(len_ind_bits) for indiv in xrange(N_pob)]\n",
    "\n",
    "# calcular fitness\n",
    "def fitness_ind(ind):\n",
    "    return sum([1 for bit in ind if bit==True])\n",
    "\n",
    "# Selección de ruleta\n",
    "def selec_rulet(vec_fitness, n):\n",
    "    # Devueleve una cantidad n de individuos a partir de la probabilidad proporcional a su fitness (mayor fitness, mayor probabilidad)\n",
    "    elecs=[]\n",
    "    probs=[float(p_i)/sum(vec_fitness) for p_i in vec_fitness]\n",
    "    for i_num in xrange(n):\n",
    "        r_num=random.random()\n",
    "        cumsum=[sum(probs[:i+1]) for i in xrange(len(probs))]\n",
    "        elec=None\n",
    "        for i_sum in enumerate(cumsum):\n",
    "            if r_num <= i_sum[1]:\n",
    "                elec=i_sum[0]# devuleve el índice del seleccionado\n",
    "                break\n",
    "        elecs.append(elec)\n",
    "    return elecs\n",
    "\n",
    "def next_select(parents, N_next_gen):\n",
    "    fitness_P_A=[fitness_ind(indiv) for indiv in parents]\n",
    "    selected=selec_rulet(fitness_P_A, N_next_gen)\n",
    "    N_P=[parents[ind_sel]for ind_sel in selected]\n",
    "    return N_P"
   ]
  },
  {
   "cell_type": "code",
   "execution_count": 127,
   "metadata": {
    "collapsed": false,
    "scrolled": false
   },
   "outputs": [
    {
     "data": {
      "image/png": "[encoded data removed]",
      "text/plain": [
       "<matplotlib.figure.Figure at 0x7f1e2b6231d0>"
      ]
     },
     "metadata": {},
     "output_type": "display_data"
    },
    {
     "data": {
      "image/png": "[encoded data removed]",
      "text/plain": [
       "<matplotlib.figure.Figure at 0x7f1e2b92bcd0>"
      ]
     },
     "metadata": {},
     "output_type": "display_data"
    }
   ],
   "source": [
    "iteraciones=150\n",
    "pars_1=pop_gener(500, 1000)\n",
    "evolution=[]\n",
    "fitness_population=[fitness_ind(indiv) for indiv in pars_1]\n",
    "evolution=[[len(set(pars_1)),\n",
    "            max(fitness_population),\n",
    "            round(np.mean(fitness_population),2),\n",
    "            round(np.std(fitness_population),2)\n",
    "           ]]#propiedades de las poblaciones a lo largo de las generaciones\n",
    "\n",
    "for i in xrange(iteraciones):\n",
    "    offsp=next_select(pars_1,len(pars_1))\n",
    "    pars_1=offsp\n",
    "    inds_popul=len(set(offsp))\n",
    "    fintess_offspring=[fitness_ind(indiv) for indiv in offsp]\n",
    "    best_fitness=max(fintess_offspring)\n",
    "    avg_fit=round(np.mean(fintess_offspring),2)\n",
    "    desvest_fit=round(np.std(fintess_offspring),2)\n",
    "    evolution.append([inds_popul,best_fitness,avg_fit,desvest_fit])\n",
    "\n",
    "evolution=np.array(evolution)\n",
    "plt.figure(figsize=(15,8))\n",
    "plt.plot(evolution[:,0])\n",
    "\n",
    "plt.figure(figsize=(15,8))\n",
    "plt.fill_between(xrange(len(evolution[:,2])), evolution[:,2]+evolution[:,3]/2, evolution[:,2]-evolution[:,3]/2, alpha=.35)\n",
    "plt.plot(xrange(len(evolution[:,2])),evolution[:,2])\n",
    "plt.plot(xrange(len(evolution[:,2])),evolution[:,1])\n",
    "plt.show()"
   ]
  }
 ],
 "metadata": {
  "kernelspec": {
   "display_name": "Python 2",
   "language": "python",
   "name": "python2"
  },
  "language_info": {
   "codemirror_mode": {
    "name": "ipython",
    "version": 2
   },
   "file_extension": ".py",
   "mimetype": "text/x-python",
   "name": "python",
   "nbconvert_exporter": "python",
   "pygments_lexer": "ipython2",
   "version": "2.7.13"
  }
 },
 "nbformat": 4,
 "nbformat_minor": 0
}
