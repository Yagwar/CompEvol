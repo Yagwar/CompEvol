{
 "cells": [
  {
   "cell_type": "markdown",
   "metadata": {},
   "source": [
    "# Algoritmos Evolutivos\n",
    "\n",
    "Optimización de la función de rastrigin:\n",
    "\n",
    "- 20 dimensiones\n",
    "- 100 individuos\n",
    "- Cien mil iteraciones\n",
    "- 30 experimentos (corridas)\n",
    "\n",
    "Se definió que cada dimensión se codifque en $17$ bits; por tanto la longitud de un individuo es $n_{dims}* 17$\n",
    "\n",
    "La probabilidad de mutación es $0.5$.\n",
    "\n",
    "\n",
    "Procedimiento: \n",
    "\n",
    "1. Se inicializa aleatoriamente con distribución uniforme la población.\n",
    "2. Siguiente generación:\n",
    "    1. Se eligen por ruleta dos individuos (padres).\n",
    "    2. La combinación es el intercambio de bits desde un punto elegido al azar hasta el final. Este intercambio se itera $n_{dims}/3$ veces.\n",
    "    3. Mutación:\n",
    "        1. Para cada bit se toma un número aleatorio $\\{0,...,1\\}$\n",
    "        2. Si el valor es menor a la probabilidad de mutación, se invierte el bit.\n",
    "    4. Se generan tantos hijos como cantidad de población hay. \n",
    "    5. Se seleccionan por ranking entre los padres y los hijos los 100 mejores individuos para la siguiente generación.\n",
    "3. Iterar"
   ]
  },
  {
   "cell_type": "code",
   "execution_count": 60,
   "metadata": {
    "collapsed": true
   },
   "outputs": [],
   "source": [
    "import numpy as np\n",
    "import pandas as pd\n",
    "import random\n",
    "import math\n",
    "import csv\n",
    "import matplotlib.pyplot as plt\n",
    "% matplotlib inline\n",
    "\n",
    "from multiprocessing import Pool\n",
    "from multiprocessing.dummy import Pool as ThreadPool"
   ]
  },
  {
   "cell_type": "code",
   "execution_count": 55,
   "metadata": {
    "collapsed": true
   },
   "outputs": [],
   "source": [
    "bit_len=17 # 2**17 =131072\n",
    "n_dims=20\n",
    "cant_indiv=100\n",
    "iteraciones=100000\n",
    "iter_experimentos=30\n",
    "mut_ratio=0.5\n",
    "optim_type=\"minimize\"\n",
    "ref_rate=100"
   ]
  },
  {
   "cell_type": "code",
   "execution_count": 56,
   "metadata": {
    "collapsed": false
   },
   "outputs": [],
   "source": [
    "#Función de fitness\n",
    "def rastrigin(X_array, A=10, m=0):\n",
    "    n=len(X_array)\n",
    "    y=A*n+(sum([(x_val**2)-(A*math.cos(2*math.pi*x_val))for x_val in X_array]))\n",
    "    return y\n",
    "\n",
    "def rastrigin_bit(indiv, A=10, m=0):\n",
    "    X_array=[]\n",
    "    #dim_bit=[bit_len*(dim+1) for dim in xrange(n_dims)]\n",
    "    for i in xrange(n_dims):\n",
    "        #coge un segmento de bitlen, lo asigna a decodificar y el resto lo reasigna al individuo.\n",
    "        dec_seg=indiv[:bit_len]\n",
    "        entero=((int(dec_seg,2)/float(2**bit_len))*10.24)-5.12\n",
    "        indiv=indiv[bit_len:]\n",
    "        X_array.append(entero)\n",
    "    n=len(X_array)\n",
    "    y=A*n+(sum([(x_val**2)-(A*math.cos(2*math.pi*x_val))for x_val in X_array]))\n",
    "    return y\n",
    "\n",
    "def gener_indiv():#bit_len, n_dims):\n",
    "    # Generar un individuo de una cantidad de bits por las n dimensiones\n",
    "    return ''.join([str(random.randint(0,1))for i in range(bit_len*n_dims)])\n",
    "\n",
    "# Convertirlos al espacio de soluciones (decodificarlos)\n",
    "def decode_indiv(indiv):#, bit_len, n_dims):\n",
    "    coords=[]\n",
    "    #dim_bit=[bit_len*(dim+1) for dim in xrange(n_dims)]\n",
    "    for i in xrange(n_dims):\n",
    "        #coge un segmento de bitlen, lo asigna a decodificar y el resto lo reasigna al individuo.\n",
    "        dec_seg=indiv[:bit_len]\n",
    "        entero=((int(dec_seg,2)/float(2**bit_len))*10.24)-5.12\n",
    "        indiv=indiv[bit_len:]\n",
    "        coords.append(entero)\n",
    "    return coords\n",
    "\n",
    "#Seleccion de ruleta\n",
    "def selec_rulet(array_fits, n):\n",
    "    #toma un array de fitness y devuelve los n padres\n",
    "    elecs=[]\n",
    "    tot_fits=sum([float(fit) for fit in array_fits[:,1]])\n",
    "    probs=[(float(p_i)/tot_fits) for p_i in array_fits[:,1]]\n",
    "    for i_num in xrange(n):\n",
    "        r_num=random.random()\n",
    "        cumsum=[sum(probs[:i+1]) for i in xrange(len(probs))]\n",
    "        elec=None\n",
    "        for i_sum in enumerate(cumsum):\n",
    "            if r_num <= i_sum[1]:\n",
    "                elec=array_fits[i_sum[0],0]\n",
    "                break\n",
    "        elecs.append(elec)\n",
    "    return elecs\n",
    "\n",
    "\n",
    "#Vector de fitness\n",
    "def fit_vector(population):\n",
    "    fit_vec=[[ind_pop,rastrigin(decode_indiv(ind_pop))] for ind_pop in population]\n",
    "    fit_vec.sort(key=lambda x: x[1], reverse=not optim_type==\"minimize\")\n",
    "    return np.array(fit_vec)\n",
    "\n",
    "\n",
    "# crear un hijo (con mutación y selecion aleatoria de punto de cruce)\n",
    "def mutation(indiv):\n",
    "    return ''.join([(str((not bool(int(i)))*1) if random.random()<mut_ratio else str(bool(int(i))*1)) for i in indiv ])\n",
    "\n",
    "def fili(fit_matrx):\n",
    "    fit_matrx_2=np.copy(fit_matrx)\n",
    "    if optim_type==\"minimize\":\n",
    "        max_fit=max(fit_matrx[:,1].astype(float))\n",
    "        fit_matrx_2[:,1]=[max_fit-float(fit_i) for fit_i in fit_matrx[:,1]]\n",
    "    parents=selec_rulet(fit_matrx_2,2)\n",
    "    for i in xrange(n_dims/3):\n",
    "        punt_cruce=random.randrange(bit_len*n_dims)\n",
    "        parents[0]=parents[0][:punt_cruce]+parents[1][punt_cruce:]\n",
    "        parents[1]=parents[1][:punt_cruce]+parents[0][punt_cruce:]\n",
    "    return ([mutation(parents[0]),mutation(parents[1])])\n",
    "\n",
    "\n",
    "####___________________________________####\n",
    "def plot_experim(evolution):\n",
    "    plt.figure(figsize=(15,8))\n",
    "    plt.plot(xrange(len(evolution[:,2])),evolution[:,3].astype(float))\n",
    "    plt.plot(xrange(len(evolution[:,2])),evolution[:,1].astype(float),\"g\")\n",
    "    plt.plot(xrange(len(evolution[:,2])),evolution[:,5].astype(float),\"r--\")\n",
    "    plt.plot(xrange(len(evolution[:,2])),evolution[:,6].astype(float),\"k\", alpha=0.4)\n",
    "    plt.fill_between(xrange(len(evolution[:,3])),evolution[:,6].astype(float)+evolution[:,4].astype(float)*0.5,\n",
    "                     evolution[:,6].astype(float)-evolution[:,4].astype(float)*0.5,alpha=.3, color=\"k\")\n",
    "    plt.show(block=False)\n",
    "####___________________________________####\n",
    "def next_gen(popul_parents):\n",
    "    '''\n",
    "    Toma una población y devuelve a la siguiente generacón de hijos.\n",
    "    Los padres se seleccionn por ruleta.\n",
    "    los hijos y los padres se ordenan y se hace ranking dejando los mejores n de la población\n",
    "    '''\n",
    "    fitness_population=fit_vector(popul_parents)\n",
    "    offsp=[]\n",
    "    for n_ind in range(cant_indiv/2):# Generar nuevos hijos\n",
    "        offsp.extend(fili(fitness_population))\n",
    "    generations_AB=popul_parents+offsp# Generar nuevos hijos y agruparlos con los padres\n",
    "    fitness_AB=fit_vector(generations_AB) # evaluar los fitness de todos\n",
    "    pars_1=list(fitness_AB[:len(popul_parents),0]) # Seleccionar los n mejores de la pobl\n",
    "    return pars_1\n",
    "\n",
    "\n",
    "def get_best_fit(popul):\n",
    "    ft_mtrx=fit_vector(popul)\n",
    "#    return float(ft_mtrx[0,1])\n",
    "    return float(ft_mtrx[0,1]), ft_mtrx[0,0]\n",
    "\n",
    "\n",
    "####___________________________________Experimentos ___________________________________####\n",
    "\n",
    "def experim_min():\n",
    "    pars_1=[gener_indiv() for i in xrange(cant_indiv)]\n",
    "    evolution=[]\n",
    "    fitness_population=fit_vector(pars_1)\n",
    "    evolution=[[len(set(pars_1)),\n",
    "                fitness_population[0,1],\n",
    "                fitness_population[0,0],\n",
    "                round(np.median(fitness_population[:,1].astype(float)),2),\n",
    "                round(np.std(fitness_population[:,1].astype(float)),2),\n",
    "                round(float(fitness_population[-1,1]),2),\n",
    "                round(np.mean(fitness_population[:,1].astype(float)),2)\n",
    "               ]]#propiedades de las poblaciones a lo largo de las generaciones\n",
    "\n",
    "# Evolucionar la pobación a lo largo de las iteraciones\n",
    "    for i in xrange(iteraciones):\n",
    "        offsp=[]\n",
    "        for n_ind in range(cant_indiv):# Generar nuevos hijos\n",
    "            offsp.extend(fili(fitness_population))\n",
    "        generations_AB=pars_1+offsp# Generar nuevos hijos y agruparlos con los padres\n",
    "        fitness_AB=fit_vector(generations_AB) # evaluar los fitness de todos\n",
    "        pars_1=list(fitness_AB[:len(pars_1),0]) # Seleccionar los n mejores de la pobl\n",
    "        fitness_population=fit_vector(pars_1) #Fitness de la nueva generación\n",
    "        ### Nueva generacion\n",
    "        inds_popul=len(set(pars_1))\n",
    "        #fintess_offspring=fit_vector(pars_1)\n",
    "        best_fitness=fitness_population[0,1]\n",
    "        best_indiv=fitness_population[0,0]\n",
    "        median_fit=round(np.median(fitness_population[:,1].astype(float)),2)\n",
    "        desvest_fit=round(np.std(fitness_population[:,1].astype(float)),2)\n",
    "        worst_fitness=round(float(fitness_population[-1,1]),2)\n",
    "        avg_fit=round(np.mean(fitness_population[:,1].astype(float)),2)\n",
    "        evolution.append([inds_popul,best_fitness,best_indiv,median_fit,desvest_fit,worst_fitness,avg_fit])\n",
    "        \n",
    "        if i % ref_rate==0:\n",
    "            print(''.join([\"iter: \",str(i),\"/\", str(iteraciones), \"| Fitness: \",np.array(evolution)[-1,1]]))\n",
    "            #plot_experim(np.array(evolution))\n",
    "                    \n",
    "    evolution=np.array(evolution)\n",
    "    return evolution"
   ]
  },
  {
   "cell_type": "code",
   "execution_count": null,
   "metadata": {
    "collapsed": false,
    "scrolled": true
   },
   "outputs": [
    {
     "name": "stdout",
     "output_type": "stream",
     "text": [
      "iter: 0/100000| best corrida Fitness: 188.443806513\n",
      "iter: 100/100000| best corrida Fitness: 142.941553756\n",
      "iter: 200/100000| best corrida Fitness: 142.941553756\n",
      "iter: 300/100000| best corrida Fitness: 142.941553756\n",
      "iter: 400/100000| best corrida Fitness: 142.941553756\n",
      "iter: 500/100000| best corrida Fitness: 142.941553756\n",
      "iter: 600/100000| best corrida Fitness: 142.941553756\n",
      "iter: 700/100000| best corrida Fitness: 142.941553756\n",
      "iter: 800/100000| best corrida Fitness: 142.941553756\n",
      "iter: 900/100000| best corrida Fitness: 142.941553756\n",
      "iter: 1000/100000| best corrida Fitness: 142.941553756\n",
      "iter: 1100/100000| best corrida Fitness: 142.941553756\n",
      "iter: 1200/100000| best corrida Fitness: 142.941553756\n",
      "iter: 1300/100000| best corrida Fitness: 142.941553756\n",
      "iter: 1400/100000| best corrida Fitness: 142.941553756\n",
      "iter: 1500/100000| best corrida Fitness: 142.941553756\n",
      "iter: 1600/100000| best corrida Fitness: 142.941553756\n",
      "iter: 1700/100000| best corrida Fitness: 142.941553756\n",
      "iter: 1800/100000| best corrida Fitness: 142.941553756\n",
      "iter: 1900/100000| best corrida Fitness: 142.941553756\n",
      "iter: 2000/100000| best corrida Fitness: 142.941553756\n",
      "iter: 2100/100000| best corrida Fitness: 142.941553756\n",
      "iter: 2200/100000| best corrida Fitness: 142.941553756\n",
      "iter: 2300/100000| best corrida Fitness: 142.941553756\n",
      "iter: 2400/100000| best corrida Fitness: 142.941553756\n",
      "iter: 2500/100000| best corrida Fitness: 142.941553756\n",
      "iter: 2600/100000| best corrida Fitness: 142.941553756\n",
      "iter: 2700/100000| best corrida Fitness: 130.849721328\n",
      "iter: 2800/100000| best corrida Fitness: 130.849721328\n",
      "iter: 2900/100000| best corrida Fitness: 130.849721328\n",
      "iter: 3000/100000| best corrida Fitness: 130.849721328\n",
      "iter: 3100/100000| best corrida Fitness: 130.849721328\n",
      "iter: 3200/100000| best corrida Fitness: 115.487856962\n",
      "iter: 3300/100000| best corrida Fitness: 115.487856962\n",
      "iter: 3400/100000| best corrida Fitness: 115.487856962\n",
      "iter: 3500/100000| best corrida Fitness: 115.487856962\n",
      "iter: 3600/100000| best corrida Fitness: 115.487856962\n",
      "iter: 3700/100000| best corrida Fitness: 115.487856962\n",
      "iter: 3800/100000| best corrida Fitness: 115.487856962\n",
      "iter: 3900/100000| best corrida Fitness: 115.487856962\n",
      "iter: 4000/100000| best corrida Fitness: 115.487856962\n",
      "iter: 4100/100000| best corrida Fitness: 115.487856962\n",
      "iter: 4200/100000| best corrida Fitness: 115.487856962\n",
      "iter: 4300/100000| best corrida Fitness: 115.487856962\n",
      "iter: 4400/100000| best corrida Fitness: 115.487856962\n",
      "iter: 4500/100000| best corrida Fitness: 115.487856962\n",
      "iter: 4600/100000| best corrida Fitness: 115.487856962\n",
      "iter: 4700/100000| best corrida Fitness: 115.487856962\n",
      "iter: 4800/100000| best corrida Fitness: 115.487856962\n",
      "iter: 4900/100000| best corrida Fitness: 115.487856962\n",
      "iter: 5000/100000| best corrida Fitness: 115.487856962\n",
      "iter: 5100/100000| best corrida Fitness: 115.487856962\n",
      "iter: 5200/100000| best corrida Fitness: 115.487856962\n",
      "iter: 5300/100000| best corrida Fitness: 115.487856962\n",
      "iter: 5400/100000| best corrida Fitness: 115.487856962\n",
      "iter: 5500/100000| best corrida Fitness: 115.487856962\n",
      "iter: 5600/100000| best corrida Fitness: 115.487856962\n",
      "iter: 5700/100000| best corrida Fitness: 115.487856962\n",
      "iter: 5800/100000| best corrida Fitness: 115.487856962\n",
      "iter: 5900/100000| best corrida Fitness: 115.487856962\n",
      "iter: 6000/100000| best corrida Fitness: 115.487856962\n",
      "iter: 6100/100000| best corrida Fitness: 115.487856962\n",
      "iter: 6200/100000| best corrida Fitness: 115.487856962\n",
      "iter: 6300/100000| best corrida Fitness: 115.487856962\n",
      "iter: 6400/100000| best corrida Fitness: 115.487856962\n",
      "iter: 6500/100000| best corrida Fitness: 115.487856962\n",
      "iter: 6600/100000| best corrida Fitness: 115.487856962\n",
      "iter: 6700/100000| best corrida Fitness: 115.487856962\n",
      "iter: 6800/100000| best corrida Fitness: 115.487856962\n",
      "iter: 6900/100000| best corrida Fitness: 115.487856962\n",
      "iter: 7000/100000| best corrida Fitness: 115.487856962\n",
      "iter: 7100/100000| best corrida Fitness: 115.487856962\n",
      "iter: 7200/100000| best corrida Fitness: 115.487856962\n",
      "iter: 7300/100000| best corrida Fitness: 115.487856962\n",
      "iter: 7400/100000| best corrida Fitness: 115.487856962\n",
      "iter: 7500/100000| best corrida Fitness: 115.487856962\n",
      "iter: 7600/100000| best corrida Fitness: 115.487856962\n"
     ]
    }
   ],
   "source": [
    "'''\n",
    "Crear n_corridas de poblaciones\n",
    "iterar sobre cada población calculando el fitness del mejor y dejándolo avanzar tantas iteraciones como pueda.\n",
    "'''\n",
    "\n",
    "#'''\n",
    "prim_gen=[[gener_indiv() for ind in xrange(cant_indiv)] for iterac in xrange(iter_experimentos)]\n",
    "best_nCorrds_mIters=[[get_best_fit(ith_popul)[0] for ith_popul in prim_gen]]#Registra el fitness del mejor de cada población por cada iteración\n",
    "#fits_first_gen=np.array([round(float(get_best_fit(ith_popul)[1]),3) for ith_popul in prim_gen])\n",
    "#np.savetxt(\"Results_1/corridas_primGen.csv\",fits_first_gen)\n",
    "best_nCorrds_mIters_bit=[str(get_best_fit([get_best_fit(ith_popul)[1] for ith_popul in prim_gen])[1])]#Registra el mejor individuo de cada población por cada iteración\n",
    "for corrida in xrange(iteraciones):\n",
    "    if __name__ == '__main__':\n",
    "        pool = Pool()\n",
    "        prim_gen=pool.map(next_gen,prim_gen)\n",
    "        pool.close() \n",
    "        pool.join()\n",
    "\n",
    "    fit_dat=np.array([get_best_fit(prox_gen) for prox_gen in prim_gen])\n",
    "    best_popul=[float(fit[0]) for fit in fit_dat]# Regstra el mejor fitness de cada población\n",
    "    best_popul_bit=[fit[1] for fit in fit_dat]#registra el mejor individuo de cada población\n",
    "    best_nCorrds_mIters.append(best_popul)\n",
    "    np.savetxt(\"Results_1/corridas.csv\",np.array(best_nCorrds_mIters))\n",
    "#    np.savetxt(\"Results_1/corridas_primGen_test.csv\",np.array(best_nCorrds_mIters))\n",
    "    best_corrida=list(get_best_fit(best_popul_bit))\n",
    "#    print (best_corrida[1])\n",
    "#    print (decode_indiv(best_corrida[1]))\n",
    "    best_nCorrds_mIters_bit.append(str(best_corrida[1]))\n",
    "    with open(''.join([\"Results_1/corridas_best_bit\",\".csv\"]), 'wb') as f:\n",
    "        writer = csv.writer(f)\n",
    "        [writer.writerow([best_bit])for best_bit in best_nCorrds_mIters_bit]\n",
    "\n",
    "#    np.savetxt(\"Results_1/corridas_primGen_test_bit.csv\",np.array([best_nCorrds_mIters_bit]))\n",
    "    if corrida %ref_rate==0:\n",
    "            print(''.join([\"iter: \",str(corrida),\"/\", str(iteraciones), \"| best corrida Fitness: \",str(best_corrida[0])]))\n",
    "            #plot_experim(np.array(evolution))\n",
    "            "
   ]
  },
  {
   "cell_type": "code",
   "execution_count": 63,
   "metadata": {
    "collapsed": false
   },
   "outputs": [],
   "source": [
    "data=np.loadtxt(\"Results_1/corridas.csv\")\n",
    "best=[]\n",
    "worst=[]\n",
    "mean=[]\n",
    "median=[]\n",
    "std_median=[]\n",
    "\n",
    "for iterac in data:\n",
    "    best.append(min(iterac))\n",
    "    worst.append(max(iterac))\n",
    "    mean.append(np.mean(iterac))\n",
    "    median.append(np.median(iterac))\n",
    "    std_median.append(np.sqrt(sum([(fit-np.median(iterac))**2 for fit in iterac])/len(iterac)))"
   ]
  },
  {
   "cell_type": "code",
   "execution_count": 64,
   "metadata": {
    "collapsed": false
   },
   "outputs": [
    {
     "data": {
      "image/png": "[encoded data removed]",
      "text/plain": [
       "<matplotlib.figure.Figure at 0x7fb0c6766ed0>"
      ]
     },
     "metadata": {},
     "output_type": "display_data"
    }
   ],
   "source": [
    "plt.figure(figsize=(15,12))\n",
    "plt.plot(best, \"g\")\n",
    "plt.plot(worst, \"r--\")\n",
    "plt.plot(mean, \"k\", alpha=0.4)\n",
    "plt.plot(median,\"b\")\n",
    "plt.fill_between(xrange(len(np.array(median))),\n",
    "                 np.array(median)+np.array(std_median),\n",
    "                 np.array(median)-np.array(std_median),\n",
    "                 alpha=0.3,\n",
    "                 color=\"b\")\n",
    "plt.savefig(\"algor_evol.pdf\")\n",
    "plt.show()"
   ]
  },
  {
   "cell_type": "code",
   "execution_count": 65,
   "metadata": {
    "collapsed": false
   },
   "outputs": [
    {
     "data": {
      "image/png": "[encoded data removed]",
      "text/plain": [
       "<matplotlib.figure.Figure at 0x7fb0f438c390>"
      ]
     },
     "metadata": {},
     "output_type": "display_data"
    }
   ],
   "source": [
    "plt.figure(figsize=(15,12))\n",
    "[plt.plot(dat) for dat in data.T]\n",
    "plt.show()"
   ]
  },
  {
   "cell_type": "code",
   "execution_count": 66,
   "metadata": {
    "collapsed": false
   },
   "outputs": [
    {
     "data": {
      "image/png": "[encoded data removed]",
      "text/plain": [
       "<matplotlib.figure.Figure at 0x7fb0f45413d0>"
      ]
     },
     "metadata": {},
     "output_type": "display_data"
    }
   ],
   "source": [
    "plt.figure(figsize=(15,8))\n",
    "plt.hist(data[-1,:],color=\"darkblue\", alpha=.6)\n",
    "plt.show()"
   ]
  },
  {
   "cell_type": "code",
   "execution_count": 67,
   "metadata": {
    "collapsed": false
   },
   "outputs": [
    {
     "name": "stdout",
     "output_type": "stream",
     "text": [
      "[ 133.39517683  133.23768917  127.3537267   130.23433067  137.68858971\n",
      "  130.80842932  124.86950283  123.86149825  126.13644463  131.55122366\n",
      "  120.58447718  121.55853538  136.36330137  115.7486878   127.92975116\n",
      "  125.04008278  129.41607643  120.74019533  129.63720159  119.94457908\n",
      "  135.46306349  132.63627102  129.37472977  115.48785696  131.27464852\n",
      "  121.05066976  135.46560183  124.63856355  122.27194806  124.30259876]\n"
     ]
    },
    {
     "data": {
      "text/plain": [
       "115.487856962"
      ]
     },
     "execution_count": 67,
     "metadata": {},
     "output_type": "execute_result"
    }
   ],
   "source": [
    "print data[-1]\n",
    "min(data[-1])"
   ]
  },
  {
   "cell_type": "code",
   "execution_count": 69,
   "metadata": {
    "collapsed": false
   },
   "outputs": [
    {
     "data": {
      "text/plain": [
       "'1001011110110010101010000011011111100011010001010110110100010000000001100111100001010011000101110010111001010001111011010011000101001000100110111100101110111111100111101010011100111101111100101111110100001010111101010110010000101111100001101100101101011010101000110100001101110010110001001101101010101101001011000101010101010010110101111000'"
      ]
     },
     "execution_count": 69,
     "metadata": {},
     "output_type": "execute_result"
    }
   ],
   "source": [
    "best_nCorrds_mIters_bit[-1]"
   ]
  },
  {
   "cell_type": "code",
   "execution_count": 70,
   "metadata": {
    "collapsed": false
   },
   "outputs": [
    {
     "data": {
      "text/plain": [
       "[0.9478906250000003,\n",
       " -1.9025781250000002,\n",
       " 0.5233593750000001,\n",
       " -0.9400000000000004,\n",
       " -0.9792187500000002,\n",
       " -1.164140625,\n",
       " 0.8192187500000001,\n",
       " 0.9856249999999998,\n",
       " 1.1117968750000005,\n",
       " -0.030468749999999822,\n",
       " 1.1586718750000005,\n",
       " 0.9562499999999998,\n",
       " 1.8934375,\n",
       " 0.23757812499999975,\n",
       " 2.0335156249999997,\n",
       " -1.8547656250000002,\n",
       " -0.529296875,\n",
       " 2.1340624999999998,\n",
       " 1.9732812500000003,\n",
       " 0.9093749999999998]"
      ]
     },
     "execution_count": 70,
     "metadata": {},
     "output_type": "execute_result"
    }
   ],
   "source": [
    "decode_indiv(best_nCorrds_mIters_bit[-1])"
   ]
  }
 ],
 "metadata": {
  "kernelspec": {
   "display_name": "Python 2",
   "language": "python",
   "name": "python2"
  },
  "language_info": {
   "codemirror_mode": {
    "name": "ipython",
    "version": 2
   },
   "file_extension": ".py",
   "mimetype": "text/x-python",
   "name": "python",
   "nbconvert_exporter": "python",
   "pygments_lexer": "ipython2",
   "version": "2.7.13"
  }
 },
 "nbformat": 4,
 "nbformat_minor": 0
}
